{
 "cells": [
  {
   "cell_type": "code",
   "execution_count": 1,
   "metadata": {},
   "outputs": [
    {
     "name": "stdout",
     "output_type": "stream",
     "text": [
      "this is some text\n",
      "\n",
      "t\n",
      "h\n",
      "i\n",
      "s\n",
      " \n",
      "i\n",
      "s\n",
      " \n",
      "s\n",
      "o\n",
      "m\n",
      "e\n",
      " \n",
      "t\n",
      "e\n",
      "x\n",
      "t\n",
      "\n",
      "['these', 'are', 'some', 'words']\n",
      "\n",
      "these\n",
      "are\n",
      "some\n",
      "words\n",
      "\n",
      "{'jake makes': 'examples', 'which are': 'boring'}\n",
      "\n",
      "jake makes examples\n",
      "which are boring\n"
     ]
    }
   ],
   "source": [
    "import numpy as np\n",
    "import re\n",
    "import json\n",
    "import datetime\n",
    "\n",
    "## make some variables\n",
    "mystring = \"this is some text\"\n",
    "mylist = [\"these\", \"are\", \"some\", \"words\"]\n",
    "mydict = {\n",
    "    \"jake makes\": \"examples\",\n",
    "    \"which are\": \"boring\"\n",
    "}\n",
    "\n",
    "## print and traverse a string\n",
    "print(mystring)\n",
    "print(\"\")\n",
    "for character in mystring:\n",
    "    print(character)\n",
    "print(\"\")\n",
    "\n",
    "## print and traverse a list\n",
    "print(mylist)\n",
    "print(\"\")\n",
    "for myelement in mylist:\n",
    "    print(myelement)\n",
    "print(\"\")\n",
    "\n",
    "## print and traverse a dcit\n",
    "print(mydict)\n",
    "print(\"\")\n",
    "for key in mydict:\n",
    "    print(key,mydict[key])"
   ]
  }
 ],
 "metadata": {
  "kernelspec": {
   "display_name": "Python 3",
   "language": "python",
   "name": "python3"
  },
  "language_info": {
   "codemirror_mode": {
    "name": "ipython",
    "version": 3
   },
   "file_extension": ".py",
   "mimetype": "text/x-python",
   "name": "python",
   "nbconvert_exporter": "python",
   "pygments_lexer": "ipython3",
   "version": "3.6.1"
  }
 },
 "nbformat": 4,
 "nbformat_minor": 2
}
